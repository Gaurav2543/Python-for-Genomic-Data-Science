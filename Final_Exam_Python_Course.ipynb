{
 "cells": [
  {
   "cell_type": "code",
   "execution_count": 91,
   "id": "cd3927b4",
   "metadata": {},
   "outputs": [],
   "source": [
    "# Q1: How many records are there in the given fasta file?\n",
    "# Q2: a) What are the lengths of the sequences in the given fasta file?\n",
    "#     b) What is the name or id and description of the longest sequence?\n",
    "#     c) What is the name or id and description of the shortest sequence?\n",
   ]
  },
  {
   "cell_type": "code",
   "execution_count": 99,
   "id": "a4b3fe34",
   "metadata": {},
   "outputs": [
    {
     "name": "stdout",
     "output_type": "stream",
     "text": [
      "25\n"
     ]
    }
   ],
   "source": [
    "# Solution for Q1:\n",
    "file = open(\"./dna.example.fasta\",\"r\")\n",
    "full_joined_string = ''\n",
    "\n",
    "for line in file:\n",
    "    line = \"\".join(line)\n",
    "    full_joined_string += line\n",
    "\n",
    "file.close()\n",
    "\n",
    "string_without_sign = full_joined_string.split(\">\")\n",
    "# string_without_sign is a list, since split splits the string into list\n",
    "del string_without_sign[0]     # removing first blank split\n",
    "num_of_seq = len(string_without_sign)      # length of the list, since every element of \n",
    "print(num_of_seq)                          # list will have data of different genome"
   ]
  },
  {
   "cell_type": "code",
   "execution_count": 100,
   "id": "1b29c04d",
   "metadata": {
    "scrolled": true
   },
   "outputs": [
    {
     "name": "stdout",
     "output_type": "stream",
     "text": [
      "[990, 724, 3080, 2863, 3832, 4805, 1663, 512, 691, 3072, 1801, 3603, 2478, 1608, 4745, 1810, 3424, 1451, 3276, 2124, 1712, 1325, 1189, 555, 2449]\n",
      "512\n",
      "['gi|142022655|gb|EQ086233.1|521 marine metagenome JCVI_SCAF_1096627390048 genomic scaffold, whole genome shotgun sequence']\n",
      "4805\n",
      "['gi|142022655|gb|EQ086233.1|323 marine metagenome JCVI_SCAF_1096627390048 genomic scaffold, whole genome shotgun sequence']\n"
     ]
    }
   ],
   "source": [
    "# Solution for Q2:\n",
    "seq_id = []     # contains sequence ids and descriptions\n",
    "seq = []        # contains dna sequences\n",
    "seq_len = []    # contains lengths of dna sequences\n",
    "for i in range(25):\n",
    "    seq_id.append(string_without_sign[i].split('\\n')[:1])\n",
    "    temp = string_without_sign[i].split('\\n')[1:]\n",
    "    seq.append(\"\".join(temp))\n",
    "    seq_len.append(len(seq[i]))\n",
    "\n",
    "min_len = min(seq_len)\n",
    "index_min = seq_len.index(min_len) \n",
    "max_len = max(seq_len)\n",
    "index_max = seq_len.index(max_len) \n",
    "    \n",
    "print(seq_len)                # lengths of all sequences\n",
    "print(min_len)                # length of sequence with minimum length\n",
    "print(seq_id[index_min])      # id and description of sequence having minimum length\n",
    "print(max_len)                # length of sequence with maximum length\n",
    "print(seq_id[index_max])      # id and description of sequence having maximum length"
   ]
  },
  {
   "cell_type": "code",
   "execution_count": 101,
   "id": "8fa954ab",
   "metadata": {},
   "outputs": [
    {
     "name": "stdout",
     "output_type": "stream",
     "text": [
      "Length\n"
     ]
    }
   ],
   "source": [
   ]
  },
  {
   "cell_type": "code",
   "execution_count": null,
   "id": "893e54ba",
   "metadata": {},
   "outputs": [],
   "source": [
   ]
  },
  {
   "cell_type": "code",
   "execution_count": null,
   "id": "2cae7a88",
   "metadata": {},
   "outputs": [],
   "source": [
    "# Solution for Q4:\n",
    "    "
   ]
  }
 ],
 "metadata": {
  "kernelspec": {
   "display_name": "Python 3 (ipykernel)",
   "language": "python",
   "name": "python3"
  },
  "language_info": {
   "codemirror_mode": {
    "name": "ipython",
    "version": 3
   },
   "file_extension": ".py",
   "mimetype": "text/x-python",
   "name": "python",
   "nbconvert_exporter": "python",
   "pygments_lexer": "ipython3",
   "version": "3.10.6"
  }
 },
 "nbformat": 4,
 "nbformat_minor": 5
}
