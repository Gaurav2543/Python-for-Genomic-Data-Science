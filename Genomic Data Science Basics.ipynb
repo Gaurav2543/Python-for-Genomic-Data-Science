{
 "cells": [
  {
   "cell_type": "code",
   "execution_count": 2,
   "id": "3e4f434e",
   "metadata": {},
   "outputs": [
    {
     "name": "stdout",
     "output_type": "stream",
     "text": [
      "False\n"
     ]
    }
   ],
   "source": [
    "a = \"abcscenefce\"\n",
    "\n",
    "c = \"cege\" in a\n",
    "print(c)"
   ]
  },
  {
   "cell_type": "code",
   "execution_count": 3,
   "id": "86325aee",
   "metadata": {},
   "outputs": [
    {
     "name": "stdout",
     "output_type": "stream",
     "text": [
      "3\n"
     ]
    }
   ],
   "source": [
    "d = \"DFDSDFDSDFDS\" \n",
    "e = d.find('SD')\n",
    "print(e)"
   ]
  },
  {
   "cell_type": "code",
   "execution_count": 4,
   "id": "e3f73386",
   "metadata": {},
   "outputs": [
    {
     "name": "stdout",
     "output_type": "stream",
     "text": [
      "Help on built-in function len in module builtins:\n",
      "\n",
      "len(obj, /)\n",
      "    Return the number of items in a container.\n",
      "\n"
     ]
    }
   ],
   "source": [
    "help(len)"
   ]
  },
  {
   "cell_type": "code",
   "execution_count": 1,
   "id": "7a8c8b67",
   "metadata": {},
   "outputs": [
    {
     "name": "stdout",
     "output_type": "stream",
     "text": [
      "4\n",
      "8\n",
      "5\n",
      "6\n",
      "23\n",
      "60.8696\n",
      "5\n",
      "-1\n"
     ]
    }
   ],
   "source": [
    "dna = input()\n",
    "count1  = dna.count(\"a\")\n",
    "count2  = dna.count(\"c\")\n",
    "count3  = dna.count(\"t\")\n",
    "count4  = dna.count(\"g\")\n",
    "\n",
    "print(count1)\n",
    "print(count2)\n",
    "print(count3)\n",
    "print(count4)\n",
    "print(len(dna))\n",
    "\n",
    "gc_percent = (count2+count4)*100/len(dna)\n",
    "ans = round(gc_percent,4)\n",
    "print(ans)\n",
    "print(\"%d\"%5.3)\n",
    "\n",
    "print(dna.find('act'))"
   ]
  },
  {
   "cell_type": "code",
   "execution_count": 6,
   "id": "c4bcaa23",
   "metadata": {
    "scrolled": true
   },
   "outputs": [
    {
     "name": "stdout",
     "output_type": "stream",
     "text": [
      "[1, 2, 5]\n"
     ]
    }
   ],
   "source": [
    "list1 = [1, 2, 3, 4, 5]\n",
    "list2 = [3, 4]\n",
    "\n",
    "result = [x for x in list1 if x not in list2]\n",
    "\n",
    "print(result)"
   ]
  },
  {
   "cell_type": "code",
   "execution_count": 7,
   "id": "d8fd29e1",
   "metadata": {},
   "outputs": [
    {
     "name": "stdout",
     "output_type": "stream",
     "text": [
      "['MADQLTEEQIA', 'EFKEAFSLFDKDGDGTITTKELGTV', 'MRSLGQNPTEAEL', 'GATVITNLFSAIPYIGTNLV', 'HLTFLHETGSNNPLGLTSDSIENY']\n"
     ]
    }
   ],
   "source": [
    "# split command working\n",
    "line = \"MADQLTEEQIA EFKEAFSLFDKDGDGTITTKELGTV MRSLGQNPTEAEL GATVITNLFSAIPYIGTNLV HLTFLHETGSNNPLGLTSDSIENY\"\n",
    "\n",
    "result_split = line.split(\" \")\n",
    "print(result_split)"
   ]
  },
  {
   "cell_type": "code",
   "execution_count": 8,
   "id": "e852d45e",
   "metadata": {},
   "outputs": [
    {
     "name": "stdout",
     "output_type": "stream",
     "text": [
      "MADQLTEEQIA---EFKEAFSLFDKDGDGTITTKELGTV---MRSLGQNPTEAEL---GATVITNLFSAIPYIGTNLV---HLTFLHETGSNNPLGLTSDSIENY\n"
     ]
    }
   ],
   "source": [
    "# join command working\n",
    "result_join = \"---\".join(result_split)\n",
    "print(result_join)"
   ]
  },
  {
   "cell_type": "code",
   "execution_count": 9,
   "id": "c8e82902",
   "metadata": {},
   "outputs": [],
   "source": [
    "dna = input()\n",
    "pos = dna.find('gt')\n",
    "\n",
    "while(pos>-1):\n",
    "    print(pos)\n",
    "    pos = dna.find('gt',pos+1)\n",
    " "
   ]
  },
  {
   "cell_type": "code",
   "execution_count": 10,
   "id": "fb9987f1",
   "metadata": {},
   "outputs": [
    {
     "name": "stdout",
     "output_type": "stream",
     "text": [
      "id1 description MDSKGSSQKGSRLLLLLVVSNLLLCQGVVSTPVCPNGPGNCQVSLRDLFDR\n"
     ]
    }
   ],
   "source": [
    "temp = \">id1 description MDSKGSSQKGSRLLLLLVVSNLLLCQGVVSTPVCPNGPGNCQVSLRDLFDR\"\n",
    "newstring = temp.replace(\">\",\"\")\n",
    "print(newstring)"
   ]
  },
  {
   "cell_type": "code",
   "execution_count": null,
   "id": "b498a0da",
   "metadata": {},
   "outputs": [],
   "source": []
  },
  {
   "cell_type": "code",
   "execution_count": 11,
   "id": "0e502dbe",
   "metadata": {},
   "outputs": [],
   "source": [
    "### Real Stuff Starts now"
   ]
  },
  {
   "cell_type": "code",
   "execution_count": 12,
   "id": "ec43b3fb",
   "metadata": {},
   "outputs": [
    {
     "name": "stdout",
     "output_type": "stream",
     "text": [
      "\n"
     ]
    },
    {
     "data": {
      "text/plain": [
       "40"
      ]
     },
     "execution_count": 12,
     "metadata": {},
     "output_type": "execute_result"
    }
   ],
   "source": [
    "# Reading and Writing in a file\n",
    "\n",
    "                             # to read from a file, we use 'r', for writing we say 'w'\n",
    "#f = open('myfile','r')       # f is the name of the variable that holds the file in the code and \n",
    "                             # myfile is the actual name of the file on the local machine\n",
    "                             # r is defualt mode for read, its inclusion is not mandatory\n",
    "                             \n",
    "\n",
    "f = open('test.txt','r')\n",
    "\n",
    "g = f.read()  # Method 1 to read contents of a file\n",
    "print(g)         # and then print it\n",
    "\n",
    "# for line in f:    # Method to directly print while reading itself\n",
    "#     print(line)\n",
    "\n",
    "# h = f.seek(5)    # jump to 5th character\n",
    "# i = f.read()     # will read file from the 5th character\n",
    "# print(i)\n",
    "\n",
    "f = open('test.txt','w')    # we have to mention this again to write in the file\n",
    "                            # we cant write in a file opened as a read file\n",
    "string = \"Leo Messi is the best player of all time\"        # this completely overwrites the file, the original contents of the file are completely lost\n",
    "f.write(string)        # this will write the contents of the variable string into the file"
   ]
  },
  {
   "cell_type": "code",
   "execution_count": 13,
   "id": "52c5bbbf",
   "metadata": {},
   "outputs": [],
   "source": [
    "# FASTA File - File of dna sequences\n",
    "# Example: \n",
    "# >MCHU - Calmodulin - Human, rabbit, bovine, rat, and chicken\n",
    "# MADQLTEEQIAEFKEAFSLFDKDGDGTITTKELGTVMRSLGQNPTEAELQDMINEVDADGNGTID\n",
    "# FPEFLTMMARKMKDTDSEEEIREAFRVFDKDGNGYISAAELRHVMTNLGEKLTDEEVDEMIREA\n",
    "# DIDGDGQVNYEEFVQMMTAK*\n",
    "\n",
    "# Contains \">\" followed by Name of ID of the sequence followed by a breif description\n",
    "# All these things are followed by a multiline string which together forms the dna sequence of specified species"
   ]
  },
  {
   "cell_type": "code",
   "execution_count": 14,
   "id": "869a8fd6",
   "metadata": {},
   "outputs": [],
   "source": [
    "# Task 1: Build a dictionary containing all sequences from a FASTA file\n",
    "# The input format of the file taken is of the form \">Name1 MDS\\JKSFBJ\\nBHNOK\\n>Name2 BHLIUB\\FRFBW\\nFBWR........\"\n",
    "# The \\n in the input fomrat represents new line, and not any explicit character\n",
    "# Each sequence in the input can have any number of lines\"\n",
    "# The output is a dictionary of the form Name: Sequence\n",
    "file = open('test_fasta.txt','r')\n",
    "\n",
    "dictionary = {}\n",
    "para = []\n",
    "\n",
    "for line in file:\n",
    "    line.rstrip()      # removes the newline at the end of every line\n",
    "    if(line[0]==\">\"):\n",
    "        line = line.replace(\">\",\"\")\n",
    "        line = line.split(\" \")\n",
    "        ID = line[0]\n",
    "        dictionary[ID]=''   # This is essential to initialize the dictionary value having ID as its key\n",
    "    else:                   # The else condition of concatenation of strings wont work if the dictionary is not initialized in the way given above\n",
    "        dictionary[ID] = dictionary[ID] + line\n",
    "        \n",
    "file.close()\n",
    "    \n",
    "for key,value in dictionary.items():             # items is used to access contents of the dictionary\n",
    "    dictionary[key] = value.replace(\"\\n\",\"\")\n",
    "#     print(key,value)\n",
    "\n",
    "# print(dictionary)\n",
    "dictionary_as_strings = str(dictionary)\n",
    "output_file = open('output_fasta.txt','w')\n",
    "output_file.write(dictionary_as_strings)\n",
    "output_file.close()\n"
   ]
  },
  {
   "cell_type": "code",
   "execution_count": 15,
   "id": "7bc2020d",
   "metadata": {},
   "outputs": [
    {
     "name": "stdout",
     "output_type": "stream",
     "text": [
      "['/home/gaurav/.local/lib/python3.10/site-packages/ipykernel_launcher.py', '--ip=127.0.0.1', '--stdin=9003', '--control=9001', '--hb=9000', '--Session.signature_scheme=\"hmac-sha256\"', '--Session.key=b\"bfdf97c4-0f51-4c68-9d93-b51d0ddc0d71\"', '--shell=9002', '--transport=\"tcp\"', '--iopub=9004', '--f=/home/gaurav/.local/share/jupyter/runtime/kernel-v2-27841RK2CqZV71IWg.json']\n",
      "--ip=127.0.0.1\n"
     ]
    }
   ],
   "source": [
    "import sys\n",
    "print(sys.argv)\n",
    "filename = sys.argv[1]        # filename is stored in 1st argument of argv command of sys module\n",
    "print(filename)"
   ]
  },
  {
   "cell_type": "code",
   "execution_count": null,
   "id": "0d5c506e",
   "metadata": {},
   "outputs": [],
   "source": []
  },
  {
   "cell_type": "code",
   "execution_count": 16,
   "id": "7abf9c40",
   "metadata": {},
   "outputs": [],
   "source": [
    "# Biopython"
   ]
  },
  {
   "cell_type": "code",
   "execution_count": 17,
   "id": "9f8c1c3b",
   "metadata": {},
   "outputs": [
    {
     "name": "stdout",
     "output_type": "stream",
     "text": [
      "1.81\n"
     ]
    }
   ],
   "source": [
    "import Bio\n",
    "print(Bio.__version__)"
   ]
  },
  {
   "cell_type": "code",
   "execution_count": 18,
   "id": "5bff118c",
   "metadata": {},
   "outputs": [
    {
     "data": {
      "text/plain": [
       "'>unknown_sequence CATGCTACGGTGCTAAAAGCATTACGCCCTATAGTGATTTTCGAGACATACTGTGTTTTTAAATATAGTATTGCC'"
      ]
     },
     "execution_count": 18,
     "metadata": {},
     "output_type": "execute_result"
    }
   ],
   "source": [
    "# Find out from what species an unknown DNA sequence came from\n",
    "# let the entire string below be stored in a file called myseq.fa\n",
    "\">unknown_sequence CATGCTACGGTGCTAAAAGCATTACGCCCTATAGTGATTTTCGAGACATACTGTGTTTTTAAATATAGTATTGCC\""
   ]
  },
  {
   "cell_type": "code",
   "execution_count": 20,
   "id": "a50b041e",
   "metadata": {},
   "outputs": [],
   "source": [
    "# BLAST (Basic Local Alignment Search Tool)\n",
    "# BLAST is a program that takes in a short sequence or maybe a longer sequence of DNA (say having length around 200-300 bases)\n",
    "# It aligns this sequence to a database of other sequences and tells us how these 2 are related\n",
    "# from Bio.Blast import NCBIWWW      #importing a large collection of NCBI built programs that we can call over the web\n",
    "# fasta_string = open(\"/home/gaurav/Documents/Research/Python_for_Genomic_Data_Science/FASTA_files/myseq.fasta\").read()\n",
    "# print(fasta_string)\n",
    "# result_handle = NCBIWWW.qblast(\"blastn\",\"nt\",fasta_string)    # blast query method attached to this part of NCBIWWW package\n",
    "# \"blastn\" searches nucleotides against nucleotides, \"nt\" is the database in which it searches for these things\n",
    "# \"nt\" is the databse that contains almost everything that is stored in NCBI\n",
    "# Default output format for qblast method is the XML format\n",
    "# help(NCBIWWW.qblast)"
   ]
  },
  {
   "cell_type": "code",
   "execution_count": 21,
   "id": "54e4ee40",
   "metadata": {},
   "outputs": [
    {
     "name": "stdout",
     "output_type": "stream",
     "text": [
      "****Alignment****\n",
      "sequence: gi|1503253460|gb|MK114118.1| Zaire ebolavirus isolate Ebola virus/H.sapiens-tc/COD/1976/Yambuku-Mayinga, partial genome\n",
      "length: 18936\n",
      "e value: 3.52254e-28\n",
      "CATGCTACGGTGCTAAAAGCATTACGCCCTATAGTGATTTTCGAGACATACTGTGTTTTTAAATATAGTATTGCC\n",
      "|||||||||||||||||||||||||||||||||||||||||||||||||||||||||||||||||||||||||||\n",
      "CATGCTACGGTGCTAAAAGCATTACGCCCTATAGTGATTTTCGAGACATACTGTGTTTTTAAATATAGTATTGCC\n",
      "****Alignment****\n",
      "sequence: gi|1282621605|gb|MG572235.1| Zaire ebolavirus isolate Ebola virus/H.sapiens-tc/COD/1995/Kikwit-9510621, complete genome\n",
      "length: 18957\n",
      "e value: 3.52254e-28\n",
      "CATGCTACGGTGCTAAAAGCATTACGCCCTATAGTGATTTTCGAGACATACTGTGTTTTTAAATATAGTATTGCC\n",
      "|||||||||||||||||||||||||||||||||||||||||||||||||||||||||||||||||||||||||||\n",
      "CATGCTACGGTGCTAAAAGCATTACGCCCTATAGTGATTTTCGAGACATACTGTGTTTTTAAATATAGTATTGCC\n",
      "****Alignment****\n",
      "sequence: gi|1500174811|gb|MK044561.1| Zaire ebolavirus isolate ZEBOV/Human/DRC/2014/BOE_036, partial genome\n",
      "length: 18898\n",
      "e value: 3.52254e-28\n",
      "CATGCTACGGTGCTAAAAGCATTACGCCCTATAGTGATTTTCGAGACATACTGTGTTTTTAAATATAGTATTGCC\n",
      "|||||||||||||||||||||||||||||||||||||||||||||||||||||||||||||||||||||||||||\n",
      "CATGCTACGGTGCTAAAAGCATTACGCCCTATAGTGATTTTCGAGACATACTGTGTTTTTAAATATAGTATTGCC\n",
      "****Alignment****\n",
      "sequence: gi|1500174801|gb|MK044560.1| Zaire ebolavirus isolate ZEBOV/Human/DRC/2014/BOE_023, partial genome\n",
      "length: 18870\n",
      "e value: 3.52254e-28\n",
      "CATGCTACGGTGCTAAAAGCATTACGCCCTATAGTGATTTTCGAGACATACTGTGTTTTTAAATATAGTATTGCC\n",
      "|||||||||||||||||||||||||||||||||||||||||||||||||||||||||||||||||||||||||||\n",
      "CATGCTACGGTGCTAAAAGCATTACGCCCTATAGTGATTTTCGAGACATACTGTGTTTTTAAATATAGTATTGCC\n",
      "****Alignment****\n",
      "sequence: gi|1500174791|gb|MK044559.1| Zaire ebolavirus isolate ZEBOV/Human/DRC/2014/BOE_011, partial genome\n",
      "length: 18896\n",
      "e value: 3.52254e-28\n",
      "CATGCTACGGTGCTAAAAGCATTACGCCCTATAGTGATTTTCGAGACATACTGTGTTTTTAAATATAGTATTGCC\n",
      "|||||||||||||||||||||||||||||||||||||||||||||||||||||||||||||||||||||||||||\n",
      "CATGCTACGGTGCTAAAAGCATTACGCCCTATAGTGATTTTCGAGACATACTGTGTTTTTAAATATAGTATTGCC\n",
      "****Alignment****\n",
      "sequence: gi|1500174781|gb|MK044558.1| Zaire ebolavirus isolate ZEBOV/Human/DRC/2014/BOE-070, partial genome\n",
      "length: 18784\n",
      "e value: 3.52254e-28\n",
      "CATGCTACGGTGCTAAAAGCATTACGCCCTATAGTGATTTTCGAGACATACTGTGTTTTTAAATATAGTATTGCC\n",
      "|||||||||||||||||||||||||||||||||||||||||||||||||||||||||||||||||||||||||||\n",
      "CATGCTACGGTGCTAAAAGCATTACGCCCTATAGTGATTTTCGAGACATACTGTGTTTTTAAATATAGTATTGCC\n",
      "****Alignment****\n",
      "sequence: gi|1487704041|gb|MH898466.1| Zaire ebolavirus isolate Ebola virus/H.sapiens-wt/COD/2018/Tumba-BIK012, partial genome\n",
      "length: 18887\n",
      "e value: 3.52254e-28\n",
      "CATGCTACGGTGCTAAAAGCATTACGCCCTATAGTGATTTTCGAGACATACTGTGTTTTTAAATATAGTATTGCC\n",
      "|||||||||||||||||||||||||||||||||||||||||||||||||||||||||||||||||||||||||||\n",
      "CATGCTACGGTGCTAAAAGCATTACGCCCTATAGTGATTTTCGAGACATACTGTGTTTTTAAATATAGTATTGCC\n",
      "****Alignment****\n",
      "sequence: gi|1453301462|gb|MH733491.1| Zaire ebolavirus isolate Ebola virus/H.sapiens-wt/COD/2018/Tumba-BIK137, complete genome\n",
      "length: 18939\n",
      "e value: 3.52254e-28\n",
      "CATGCTACGGTGCTAAAAGCATTACGCCCTATAGTGATTTTCGAGACATACTGTGTTTTTAAATATAGTATTGCC\n",
      "|||||||||||||||||||||||||||||||||||||||||||||||||||||||||||||||||||||||||||\n",
      "CATGCTACGGTGCTAAAAGCATTACGCCCTATAGTGATTTTCGAGACATACTGTGTTTTTAAATATAGTATTGCC\n",
      "****Alignment****\n",
      "sequence: gi|1453301452|gb|MH733490.1| Zaire ebolavirus isolate Ebola virus/H.sapiens-wt/COD/2018/Tumba-BIK091, complete genome\n",
      "length: 18932\n",
      "e value: 3.52254e-28\n",
      "CATGCTACGGTGCTAAAAGCATTACGCCCTATAGTGATTTTCGAGACATACTGTGTTTTTAAATATAGTATTGCC\n",
      "|||||||||||||||||||||||||||||||||||||||||||||||||||||||||||||||||||||||||||\n",
      "CATGCTACGGTGCTAAAAGCATTACGCCCTATAGTGATTTTCGAGACATACTGTGTTTTTAAATATAGTATTGCC\n",
      "****Alignment****\n",
      "sequence: gi|1453301442|gb|MH733489.1| Zaire ebolavirus isolate Ebola virus/H.sapiens-wt/COD/2018/Tumba-BIK055, complete genome\n",
      "length: 18913\n",
      "e value: 3.52254e-28\n",
      "CATGCTACGGTGCTAAAAGCATTACGCCCTATAGTGATTTTCGAGACATACTGTGTTTTTAAATATAGTATTGCC\n",
      "|||||||||||||||||||||||||||||||||||||||||||||||||||||||||||||||||||||||||||\n",
      "CATGCTACGGTGCTAAAAGCATTACGCCCTATAGTGATTTTCGAGACATACTGTGTTTTTAAATATAGTATTGCC\n",
      "****Alignment****\n",
      "sequence: gi|1453301422|gb|MH733487.1| Zaire ebolavirus isolate Ebola virus/H.sapiens-wt/COD/2018/Tumba-BIK046, complete genome\n",
      "length: 18919\n",
      "e value: 3.52254e-28\n",
      "CATGCTACGGTGCTAAAAGCATTACGCCCTATAGTGATTTTCGAGACATACTGTGTTTTTAAATATAGTATTGCC\n",
      "|||||||||||||||||||||||||||||||||||||||||||||||||||||||||||||||||||||||||||\n",
      "CATGCTACGGTGCTAAAAGCATTACGCCCTATAGTGATTTTCGAGACATACTGTGTTTTTAAATATAGTATTGCC\n",
      "****Alignment****\n",
      "sequence: gi|1453301412|gb|MH733486.1| Zaire ebolavirus isolate Ebola virus/H.sapiens-wt/COD/2018/Tumba-BIK045, complete genome\n",
      "length: 18914\n",
      "e value: 3.52254e-28\n",
      "CATGCTACGGTGCTAAAAGCATTACGCCCTATAGTGATTTTCGAGACATACTGTGTTTTTAAATATAGTATTGCC\n",
      "|||||||||||||||||||||||||||||||||||||||||||||||||||||||||||||||||||||||||||\n",
      "CATGCTACGGTGCTAAAAGCATTACGCCCTATAGTGATTTTCGAGACATACTGTGTTTTTAAATATAGTATTGCC\n",
      "****Alignment****\n",
      "sequence: gi|1453301402|gb|MH733485.1| Zaire ebolavirus isolate Ebola virus/H.sapiens-wt/COD/2018/Tumba-BIK039, complete genome\n",
      "length: 18940\n",
      "e value: 3.52254e-28\n",
      "CATGCTACGGTGCTAAAAGCATTACGCCCTATAGTGATTTTCGAGACATACTGTGTTTTTAAATATAGTATTGCC\n",
      "|||||||||||||||||||||||||||||||||||||||||||||||||||||||||||||||||||||||||||\n",
      "CATGCTACGGTGCTAAAAGCATTACGCCCTATAGTGATTTTCGAGACATACTGTGTTTTTAAATATAGTATTGCC\n",
      "****Alignment****\n",
      "sequence: gi|1453301392|gb|MH733484.1| Zaire ebolavirus isolate Ebola virus/H.sapiens-wt/COD/2018/Tumba-BIK037, complete genome\n",
      "length: 18905\n",
      "e value: 3.52254e-28\n",
      "CATGCTACGGTGCTAAAAGCATTACGCCCTATAGTGATTTTCGAGACATACTGTGTTTTTAAATATAGTATTGCC\n",
      "|||||||||||||||||||||||||||||||||||||||||||||||||||||||||||||||||||||||||||\n",
      "CATGCTACGGTGCTAAAAGCATTACGCCCTATAGTGATTTTCGAGACATACTGTGTTTTTAAATATAGTATTGCC\n",
      "****Alignment****\n",
      "sequence: gi|1453301382|gb|MH733483.1| Zaire ebolavirus isolate Ebola virus/H.sapiens-wt/COD/2018/Tumba-BIK031, complete genome\n",
      "length: 18944\n",
      "e value: 3.52254e-28\n",
      "CATGCTACGGTGCTAAAAGCATTACGCCCTATAGTGATTTTCGAGACATACTGTGTTTTTAAATATAGTATTGCC\n",
      "|||||||||||||||||||||||||||||||||||||||||||||||||||||||||||||||||||||||||||\n",
      "CATGCTACGGTGCTAAAAGCATTACGCCCTATAGTGATTTTCGAGACATACTGTGTTTTTAAATATAGTATTGCC\n",
      "****Alignment****\n",
      "sequence: gi|1453301372|gb|MH733482.1| Zaire ebolavirus isolate Ebola virus/H.sapiens-wt/COD/2018/Tumba-BIK026, complete genome\n",
      "length: 18944\n",
      "e value: 3.52254e-28\n",
      "CATGCTACGGTGCTAAAAGCATTACGCCCTATAGTGATTTTCGAGACATACTGTGTTTTTAAATATAGTATTGCC\n",
      "|||||||||||||||||||||||||||||||||||||||||||||||||||||||||||||||||||||||||||\n",
      "CATGCTACGGTGCTAAAAGCATTACGCCCTATAGTGATTTTCGAGACATACTGTGTTTTTAAATATAGTATTGCC\n",
      "****Alignment****\n",
      "sequence: gi|1453301362|gb|MH733481.1| Zaire ebolavirus isolate Ebola virus/H.sapiens-wt/COD/2018/Tumba-BIK025, complete genome\n",
      "length: 18939\n",
      "e value: 3.52254e-28\n",
      "CATGCTACGGTGCTAAAAGCATTACGCCCTATAGTGATTTTCGAGACATACTGTGTTTTTAAATATAGTATTGCC\n",
      "|||||||||||||||||||||||||||||||||||||||||||||||||||||||||||||||||||||||||||\n",
      "CATGCTACGGTGCTAAAAGCATTACGCCCTATAGTGATTTTCGAGACATACTGTGTTTTTAAATATAGTATTGCC\n",
      "****Alignment****\n",
      "sequence: gi|1453301352|gb|MH733480.1| Zaire ebolavirus isolate Ebola virus/H.sapiens-wt/COD/2018/Tumba-BIK019, complete genome\n",
      "length: 18938\n",
      "e value: 3.52254e-28\n",
      "CATGCTACGGTGCTAAAAGCATTACGCCCTATAGTGATTTTCGAGACATACTGTGTTTTTAAATATAGTATTGCC\n",
      "|||||||||||||||||||||||||||||||||||||||||||||||||||||||||||||||||||||||||||\n",
      "CATGCTACGGTGCTAAAAGCATTACGCCCTATAGTGATTTTCGAGACATACTGTGTTTTTAAATATAGTATTGCC\n",
      "****Alignment****\n",
      "sequence: gi|1453301342|gb|MH733479.1| Zaire ebolavirus isolate Ebola virus/H.sapiens-wt/COD/2018/Tumba-BIK016, complete genome\n",
      "length: 18944\n",
      "e value: 3.52254e-28\n",
      "CATGCTACGGTGCTAAAAGCATTACGCCCTATAGTGATTTTCGAGACATACTGTGTTTTTAAATATAGTATTGCC\n",
      "|||||||||||||||||||||||||||||||||||||||||||||||||||||||||||||||||||||||||||\n",
      "CATGCTACGGTGCTAAAAGCATTACGCCCTATAGTGATTTTCGAGACATACTGTGTTTTTAAATATAGTATTGCC\n",
      "****Alignment****\n",
      "sequence: gi|1453301332|gb|MH733478.1| Zaire ebolavirus isolate Ebola virus/H.sapiens-wt/COD/2018/Tumba-BIK011, complete genome\n",
      "length: 18941\n",
      "e value: 3.52254e-28\n",
      "CATGCTACGGTGCTAAAAGCATTACGCCCTATAGTGATTTTCGAGACATACTGTGTTTTTAAATATAGTATTGCC\n",
      "|||||||||||||||||||||||||||||||||||||||||||||||||||||||||||||||||||||||||||\n",
      "CATGCTACGGTGCTAAAAGCATTACGCCCTATAGTGATTTTCGAGACATACTGTGTTTTTAAATATAGTATTGCC\n",
      "****Alignment****\n",
      "sequence: gi|1453301322|gb|MH733477.1| Zaire ebolavirus isolate Ebola virus/H.sapiens-wt/COD/2018/Tumba-BIK009, complete genome\n",
      "length: 18894\n",
      "e value: 3.52254e-28\n",
      "CATGCTACGGTGCTAAAAGCATTACGCCCTATAGTGATTTTCGAGACATACTGTGTTTTTAAATATAGTATTGCC\n",
      "|||||||||||||||||||||||||||||||||||||||||||||||||||||||||||||||||||||||||||\n",
      "CATGCTACGGTGCTAAAAGCATTACGCCCTATAGTGATTTTCGAGACATACTGTGTTTTTAAATATAGTATTGCC\n",
      "****Alignment****\n",
      "sequence: gi|1517365859|gb|MK088515.1| Zaire ebolavirus isolate Ebola virus/H.sapiens-wt/COD/2017/Muyembe-18FHV012b, complete genome\n",
      "length: 18934\n",
      "e value: 3.52254e-28\n",
      "CATGCTACGGTGCTAAAAGCATTACGCCCTATAGTGATTTTCGAGACATACTGTGTTTTTAAATATAGTATTGCC\n",
      "|||||||||||||||||||||||||||||||||||||||||||||||||||||||||||||||||||||||||||\n",
      "CATGCTACGGTGCTAAAAGCATTACGCCCTATAGTGATTTTCGAGACATACTGTGTTTTTAAATATAGTATTGCC\n",
      "****Alignment****\n",
      "sequence: gi|1436008541|gb|MH613311.1| Zaire ebolavirus isolate H.sapiens-wt/COD/2017/Muyembe.1, complete genome\n",
      "length: 18899\n",
      "e value: 3.52254e-28\n",
      "CATGCTACGGTGCTAAAAGCATTACGCCCTATAGTGATTTTCGAGACATACTGTGTTTTTAAATATAGTATTGCC\n",
      "|||||||||||||||||||||||||||||||||||||||||||||||||||||||||||||||||||||||||||\n",
      "CATGCTACGGTGCTAAAAGCATTACGCCCTATAGTGATTTTCGAGACATACTGTGTTTTTAAATATAGTATTGCC\n",
      "****Alignment****\n",
      "sequence: gi|1431829175|gb|MH464889.1| Vector pEBO_BDBV-GP, complete sequence\n",
      "length: 21172\n",
      "e value: 3.52254e-28\n",
      "CATGCTACGGTGCTAAAAGCATTACGCCCTATAGTGATTTTCGAGACATACTGTGTTTTTAAATATAGTATTGCC\n",
      "|||||||||||||||||||||||||||||||||||||||||||||||||||||||||||||||||||||||||||\n",
      "CATGCTACGGTGCTAAAAGCATTACGCCCTATAGTGATTTTCGAGACATACTGTGTTTTTAAATATAGTATTGCC\n",
      "****Alignment****\n",
      "sequence: gi|1431829165|gb|MH464888.1| Zaire ebolavirus isolate Ebola virus/H.sapiens-rec/COD/1976/Yambuku-Mayinga-eGFP-BDBV_GP, complete genome\n",
      "length: 18962\n",
      "e value: 3.52254e-28\n",
      "CATGCTACGGTGCTAAAAGCATTACGCCCTATAGTGATTTTCGAGACATACTGTGTTTTTAAATATAGTATTGCC\n",
      "|||||||||||||||||||||||||||||||||||||||||||||||||||||||||||||||||||||||||||\n",
      "CATGCTACGGTGCTAAAAGCATTACGCCCTATAGTGATTTTCGAGACATACTGTGTTTTTAAATATAGTATTGCC\n",
      "****Alignment****\n",
      "sequence: gi|1425140432|gb|MH481611.2| Zaire ebolavirus strain Ebola_virus/DRC/Likati/Human/2017/1, complete genome\n",
      "length: 18898\n",
      "e value: 3.52254e-28\n",
      "CATGCTACGGTGCTAAAAGCATTACGCCCTATAGTGATTTTCGAGACATACTGTGTTTTTAAATATAGTATTGCC\n",
      "|||||||||||||||||||||||||||||||||||||||||||||||||||||||||||||||||||||||||||\n",
      "CATGCTACGGTGCTAAAAGCATTACGCCCTATAGTGATTTTCGAGACATACTGTGTTTTTAAATATAGTATTGCC\n",
      "****Alignment****\n",
      "sequence: gi|1390208419|gb|MH121168.1| Zaire ebolavirus isolate Ebola virus/H.sapiens-tc/Zaire/1976/Mayinga-R3816, complete genome\n",
      "length: 18958\n",
      "e value: 3.52254e-28\n",
      "CATGCTACGGTGCTAAAAGCATTACGCCCTATAGTGATTTTCGAGACATACTGTGTTTTTAAATATAGTATTGCC\n",
      "|||||||||||||||||||||||||||||||||||||||||||||||||||||||||||||||||||||||||||\n",
      "CATGCTACGGTGCTAAAAGCATTACGCCCTATAGTGATTTTCGAGACATACTGTGTTTTTAAATATAGTATTGCC\n",
      "****Alignment****\n",
      "sequence: gi|1390208399|gb|MH121166.1| Zaire ebolavirus isolate Ebola virus/H.sapiens-tc/COD/1976/Yambuku-Mayinga, complete genome\n",
      "length: 18957\n",
      "e value: 3.52254e-28\n",
      "CATGCTACGGTGCTAAAAGCATTACGCCCTATAGTGATTTTCGAGACATACTGTGTTTTTAAATATAGTATTGCC\n",
      "|||||||||||||||||||||||||||||||||||||||||||||||||||||||||||||||||||||||||||\n",
      "CATGCTACGGTGCTAAAAGCATTACGCCCTATAGTGATTTTCGAGACATACTGTGTTTTTAAATATAGTATTGCC\n",
      "****Alignment****\n",
      "sequence: gi|1390208389|gb|MH121165.1| Zaire ebolavirus isolate Ebola virus/H.sapiens-tc/COD/1995/Kikwit-9510621, complete genome\n",
      "length: 18959\n",
      "e value: 3.52254e-28\n",
      "CATGCTACGGTGCTAAAAGCATTACGCCCTATAGTGATTTTCGAGACATACTGTGTTTTTAAATATAGTATTGCC\n",
      "|||||||||||||||||||||||||||||||||||||||||||||||||||||||||||||||||||||||||||\n",
      "CATGCTACGGTGCTAAAAGCATTACGCCCTATAGTGATTTTCGAGACATACTGTGTTTTTAAATATAGTATTGCC\n",
      "****Alignment****\n",
      "sequence: gi|1129866795|gb|KY425656.1| Zaire ebolavirus isolate IRF0164, partial genome\n",
      "length: 18899\n",
      "e value: 3.52254e-28\n",
      "CATGCTACGGTGCTAAAAGCATTACGCCCTATAGTGATTTTCGAGACATACTGTGTTTTTAAATATAGTATTGCC\n",
      "|||||||||||||||||||||||||||||||||||||||||||||||||||||||||||||||||||||||||||\n",
      "CATGCTACGGTGCTAAAAGCATTACGCCCTATAGTGATTTTCGAGACATACTGTGTTTTTAAATATAGTATTGCC\n",
      "****Alignment****\n",
      "sequence: gi|1129866765|gb|KY425653.1| Zaire ebolavirus isolate IRF0120, partial genome\n",
      "length: 18894\n",
      "e value: 3.52254e-28\n",
      "CATGCTACGGTGCTAAAAGCATTACGCCCTATAGTGATTTTCGAGACATACTGTGTTTTTAAATATAGTATTGCC\n",
      "|||||||||||||||||||||||||||||||||||||||||||||||||||||||||||||||||||||||||||\n",
      "CATGCTACGGTGCTAAAAGCATTACGCCCTATAGTGATTTTCGAGACATACTGTGTTTTTAAATATAGTATTGCC\n",
      "****Alignment****\n",
      "sequence: gi|1129866755|gb|KY425652.1| Zaire ebolavirus isolate IRF0150, partial genome\n",
      "length: 18890\n",
      "e value: 3.52254e-28\n",
      "CATGCTACGGTGCTAAAAGCATTACGCCCTATAGTGATTTTCGAGACATACTGTGTTTTTAAATATAGTATTGCC\n",
      "|||||||||||||||||||||||||||||||||||||||||||||||||||||||||||||||||||||||||||\n",
      "CATGCTACGGTGCTAAAAGCATTACGCCCTATAGTGATTTTCGAGACATACTGTGTTTTTAAATATAGTATTGCC\n",
      "****Alignment****\n",
      "sequence: gi|1129866739|gb|KY425649.1| Zaire ebolavirus isolate IRF0206, partial genome\n",
      "length: 18907\n",
      "e value: 3.52254e-28\n",
      "CATGCTACGGTGCTAAAAGCATTACGCCCTATAGTGATTTTCGAGACATACTGTGTTTTTAAATATAGTATTGCC\n",
      "|||||||||||||||||||||||||||||||||||||||||||||||||||||||||||||||||||||||||||\n",
      "CATGCTACGGTGCTAAAAGCATTACGCCCTATAGTGATTTTCGAGACATACTGTGTTTTTAAATATAGTATTGCC\n",
      "****Alignment****\n",
      "sequence: gi|1129866719|gb|KY425647.1| Zaire ebolavirus isolate IRF0147, partial genome\n",
      "length: 18902\n",
      "e value: 3.52254e-28\n",
      "CATGCTACGGTGCTAAAAGCATTACGCCCTATAGTGATTTTCGAGACATACTGTGTTTTTAAATATAGTATTGCC\n",
      "|||||||||||||||||||||||||||||||||||||||||||||||||||||||||||||||||||||||||||\n",
      "CATGCTACGGTGCTAAAAGCATTACGCCCTATAGTGATTTTCGAGACATACTGTGTTTTTAAATATAGTATTGCC\n",
      "****Alignment****\n",
      "sequence: gi|1129866668|gb|KY425639.1| Zaire ebolavirus isolate IRF0175, partial genome\n",
      "length: 18880\n",
      "e value: 3.52254e-28\n",
      "CATGCTACGGTGCTAAAAGCATTACGCCCTATAGTGATTTTCGAGACATACTGTGTTTTTAAATATAGTATTGCC\n",
      "|||||||||||||||||||||||||||||||||||||||||||||||||||||||||||||||||||||||||||\n",
      "CATGCTACGGTGCTAAAAGCATTACGCCCTATAGTGATTTTCGAGACATACTGTGTTTTTAAATATAGTATTGCC\n",
      "****Alignment****\n",
      "sequence: gi|1129866655|gb|KY425637.1| Zaire ebolavirus isolate IRF0176, partial genome\n",
      "length: 18911\n",
      "e value: 3.52254e-28\n",
      "CATGCTACGGTGCTAAAAGCATTACGCCCTATAGTGATTTTCGAGACATACTGTGTTTTTAAATATAGTATTGCC\n",
      "|||||||||||||||||||||||||||||||||||||||||||||||||||||||||||||||||||||||||||\n",
      "CATGCTACGGTGCTAAAAGCATTACGCCCTATAGTGATTTTCGAGACATACTGTGTTTTTAAATATAGTATTGCC\n",
      "****Alignment****\n",
      "sequence: gi|1129866645|gb|KY425636.1| Zaire ebolavirus isolate IRF0190, partial genome\n",
      "length: 18909\n",
      "e value: 3.52254e-28\n",
      "CATGCTACGGTGCTAAAAGCATTACGCCCTATAGTGATTTTCGAGACATACTGTGTTTTTAAATATAGTATTGCC\n",
      "|||||||||||||||||||||||||||||||||||||||||||||||||||||||||||||||||||||||||||\n",
      "CATGCTACGGTGCTAAAAGCATTACGCCCTATAGTGATTTTCGAGACATACTGTGTTTTTAAATATAGTATTGCC\n",
      "****Alignment****\n",
      "sequence: gi|1129866607|gb|KY425630.1| Zaire ebolavirus isolate IRF0156, partial genome\n",
      "length: 18917\n",
      "e value: 3.52254e-28\n",
      "CATGCTACGGTGCTAAAAGCATTACGCCCTATAGTGATTTTCGAGACATACTGTGTTTTTAAATATAGTATTGCC\n",
      "|||||||||||||||||||||||||||||||||||||||||||||||||||||||||||||||||||||||||||\n",
      "CATGCTACGGTGCTAAAAGCATTACGCCCTATAGTGATTTTCGAGACATACTGTGTTTTTAAATATAGTATTGCC\n",
      "****Alignment****\n",
      "sequence: gi|973427277|gb|KU321201.1| Zaire ebolavirus isolate Ebola virus/H.sapiens-tc/COD/1995/Kikwit-9510621-2807D5 membrane-associated protein VP24 (VP24) gene, partial cds; and polymerase (L) gene, complete cds\n",
      "length: 16787\n",
      "e value: 3.52254e-28\n",
      "CATGCTACGGTGCTAAAAGCATTACGCCCTATAGTGATTTTCGAGACATACTGTGTTTTTAAATATAGTATTGCC\n",
      "|||||||||||||||||||||||||||||||||||||||||||||||||||||||||||||||||||||||||||\n",
      "CATGCTACGGTGCTAAAAGCATTACGCCCTATAGTGATTTTCGAGACATACTGTGTTTTTAAATATAGTATTGCC\n",
      "****Alignment****\n",
      "sequence: gi|2501520155|gb|OQ784121.1| Mutant Zaire ebolavirus rMA-EBOV-ZsGnLuc, complete genome\n",
      "length: 20233\n",
      "e value: 3.52254e-28\n",
      "CATGCTACGGTGCTAAAAGCATTACGCCCTATAGTGATTTTCGAGACATACTGTGTTTTTAAATATAGTATTGCC\n",
      "|||||||||||||||||||||||||||||||||||||||||||||||||||||||||||||||||||||||||||\n",
      "CATGCTACGGTGCTAAAAGCATTACGCCCTATAGTGATTTTCGAGACATACTGTGTTTTTAAATATAGTATTGCC\n",
      "****Alignment****\n",
      "sequence: gi|2501520146|gb|OQ784120.1| Mutant Zaire ebolavirus rMA-EBOV-nLuc-ZsG, complete genome\n",
      "length: 20302\n",
      "e value: 3.52254e-28\n",
      "CATGCTACGGTGCTAAAAGCATTACGCCCTATAGTGATTTTCGAGACATACTGTGTTTTTAAATATAGTATTGCC\n",
      "|||||||||||||||||||||||||||||||||||||||||||||||||||||||||||||||||||||||||||\n",
      "CATGCTACGGTGCTAAAAGCATTACGCCCTATAGTGATTTTCGAGACATACTGTGTTTTTAAATATAGTATTGCC\n",
      "****Alignment****\n",
      "sequence: gi|2501520137|gb|OQ784119.1| Mutant Zaire ebolavirus rMA-EBOV-nLuc, complete genome\n",
      "length: 19540\n",
      "e value: 3.52254e-28\n",
      "CATGCTACGGTGCTAAAAGCATTACGCCCTATAGTGATTTTCGAGACATACTGTGTTTTTAAATATAGTATTGCC\n",
      "|||||||||||||||||||||||||||||||||||||||||||||||||||||||||||||||||||||||||||\n",
      "CATGCTACGGTGCTAAAAGCATTACGCCCTATAGTGATTTTCGAGACATACTGTGTTTTTAAATATAGTATTGCC\n",
      "****Alignment****\n",
      "sequence: gi|2501520128|gb|OQ784118.1| Mutant Zaire ebolavirus rMA-EBOV-ZsG, complete genome\n",
      "length: 19720\n",
      "e value: 3.52254e-28\n",
      "CATGCTACGGTGCTAAAAGCATTACGCCCTATAGTGATTTTCGAGACATACTGTGTTTTTAAATATAGTATTGCC\n",
      "|||||||||||||||||||||||||||||||||||||||||||||||||||||||||||||||||||||||||||\n",
      "CATGCTACGGTGCTAAAAGCATTACGCCCTATAGTGATTTTCGAGACATACTGTGTTTTTAAATATAGTATTGCC\n",
      "****Alignment****\n",
      "sequence: gi|2501520119|gb|OQ784117.1| Mutant Zaire ebolavirus rMA-EBOV, complete genome\n",
      "length: 18958\n",
      "e value: 3.52254e-28\n",
      "CATGCTACGGTGCTAAAAGCATTACGCCCTATAGTGATTTTCGAGACATACTGTGTTTTTAAATATAGTATTGCC\n",
      "|||||||||||||||||||||||||||||||||||||||||||||||||||||||||||||||||||||||||||\n",
      "CATGCTACGGTGCTAAAAGCATTACGCCCTATAGTGATTTTCGAGACATACTGTGTTTTTAAATATAGTATTGCC\n",
      "****Alignment****\n",
      "sequence: gi|2183122623|gb|OL956940.1| Synthetic construct clone rEBOV-ZsG, complete sequence\n",
      "length: 19720\n",
      "e value: 3.52254e-28\n",
      "CATGCTACGGTGCTAAAAGCATTACGCCCTATAGTGATTTTCGAGACATACTGTGTTTTTAAATATAGTATTGCC\n",
      "|||||||||||||||||||||||||||||||||||||||||||||||||||||||||||||||||||||||||||\n",
      "CATGCTACGGTGCTAAAAGCATTACGCCCTATAGTGATTTTCGAGACATACTGTGTTTTTAAATATAGTATTGCC\n",
      "****Alignment****\n",
      "sequence: gi|2079589136|gb|MT583342.1| Zaire ebolavirus culture BEI<USA>:NR_51690, complete genome\n",
      "length: 18943\n",
      "e value: 3.52254e-28\n",
      "CATGCTACGGTGCTAAAAGCATTACGCCCTATAGTGATTTTCGAGACATACTGTGTTTTTAAATATAGTATTGCC\n",
      "|||||||||||||||||||||||||||||||||||||||||||||||||||||||||||||||||||||||||||\n",
      "CATGCTACGGTGCTAAAAGCATTACGCCCTATAGTGATTTTCGAGACATACTGTGTTTTTAAATATAGTATTGCC\n",
      "****Alignment****\n",
      "sequence: gi|2079589126|gb|MT583341.1| Zaire ebolavirus culture BEI<USA>:NR_51689, complete genome\n",
      "length: 18950\n",
      "e value: 3.52254e-28\n",
      "CATGCTACGGTGCTAAAAGCATTACGCCCTATAGTGATTTTCGAGACATACTGTGTTTTTAAATATAGTATTGCC\n",
      "|||||||||||||||||||||||||||||||||||||||||||||||||||||||||||||||||||||||||||\n",
      "CATGCTACGGTGCTAAAAGCATTACGCCCTATAGTGATTTTCGAGACATACTGTGTTTTTAAATATAGTATTGCC\n",
      "****Alignment****\n",
      "sequence: gi|2079589116|gb|MT583340.1| Zaire ebolavirus culture BEI<USA>:NR_51688, complete genome\n",
      "length: 18944\n",
      "e value: 3.52254e-28\n",
      "CATGCTACGGTGCTAAAAGCATTACGCCCTATAGTGATTTTCGAGACATACTGTGTTTTTAAATATAGTATTGCC\n",
      "|||||||||||||||||||||||||||||||||||||||||||||||||||||||||||||||||||||||||||\n",
      "CATGCTACGGTGCTAAAAGCATTACGCCCTATAGTGATTTTCGAGACATACTGTGTTTTTAAATATAGTATTGCC\n",
      "****Alignment****\n",
      "sequence: gi|2079589106|gb|MT583339.1| Zaire ebolavirus culture BEI<USA>:NR_51687, complete genome\n",
      "length: 18950\n",
      "e value: 3.52254e-28\n",
      "CATGCTACGGTGCTAAAAGCATTACGCCCTATAGTGATTTTCGAGACATACTGTGTTTTTAAATATAGTATTGCC\n",
      "|||||||||||||||||||||||||||||||||||||||||||||||||||||||||||||||||||||||||||\n",
      "CATGCTACGGTGCTAAAAGCATTACGCCCTATAGTGATTTTCGAGACATACTGTGTTTTTAAATATAGTATTGCC\n",
      "****Alignment****\n",
      "sequence: gi|1946847804|gb|MN975535.1| Cloning vector BB866 - EBOV/Tum\n",
      "length: 21214\n",
      "e value: 3.52254e-28\n",
      "CATGCTACGGTGCTAAAAGCATTACGCCCTATAGTGATTTTCGAGACATACTGTGTTTTTAAATATAGTATTGCC\n",
      "|||||||||||||||||||||||||||||||||||||||||||||||||||||||||||||||||||||||||||\n",
      "CATGCTACGGTGCTAAAAGCATTACGCCCTATAGTGATTTTCGAGACATACTGTGTTTTTAAATATAGTATTGCC\n"
     ]
    }
   ],
   "source": [
    "# Program to compare sequence in a fasta file with the NCBI Database and fine th closest matches from the database with it  \n",
    "import Bio\n",
    "from Bio.Blast import NCBIWWW      #importing a large collection of NCBI built programs that we can call over the web\n",
    "from Bio.Blast import NCBIXML    # This module formats things more nicely call over the web\n",
    "fasta_string = open(\"/home/gaurav/Documents/Research/Python_for_Genomic_Data_Science/FASTA_files/myseq.fasta\").read()\n",
    "# print(fasta_string)\n",
    "result_handle = NCBIWWW.qblast(\"blastn\",\"nt\",fasta_string) \n",
    "\n",
    "blast_record = NCBIXML.read(result_handle)\n",
    "len(blast_record.alignments)       # this length is the number of closest matching sequences found, its max value can be 50\n",
    "# blast_record.alignments contains the closest matching sequences\n",
    "E_VALUE_THRESH = 0.01\n",
    "for alignment in blast_record.alignments:\n",
    "    for hsp in alignment.hsps:\n",
    "        if hsp.expect < E_VALUE_THRESH:\n",
    "            print('****Alignment****')\n",
    "            print('sequence:', alignment.title)\n",
    "            print('length:', alignment.length)\n",
    "            print('e value:', hsp.expect)    # hsp is high scoring pair (mean to measure distance between two sequences)\n",
    "            print(hsp.query)\n",
    "            print(hsp.match)\n",
    "            print(hsp.sbjct)\n",
    "            \n",
    "# fasta_string.close    # close the file"
   ]
  },
  {
   "cell_type": "code",
   "execution_count": null,
   "id": "10aa34d6",
   "metadata": {},
   "outputs": [],
   "source": []
  }
 ],
 "metadata": {
  "kernelspec": {
   "display_name": "Python 3 (ipykernel)",
   "language": "python",
   "name": "python3"
  },
  "language_info": {
   "codemirror_mode": {
    "name": "ipython",
    "version": 3
   },
   "file_extension": ".py",
   "mimetype": "text/x-python",
   "name": "python",
   "nbconvert_exporter": "python",
   "pygments_lexer": "ipython3",
   "version": "3.10.6"
  }
 },
 "nbformat": 4,
 "nbformat_minor": 5
}
